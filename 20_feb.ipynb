{
  "nbformat": 4,
  "nbformat_minor": 0,
  "metadata": {
    "colab": {
      "provenance": [],
      "authorship_tag": "ABX9TyOMtHcw0dHGqPV/Jb5EZm8t",
      "include_colab_link": true
    },
    "kernelspec": {
      "name": "python3",
      "display_name": "Python 3"
    },
    "language_info": {
      "name": "python"
    }
  },
  "cells": [
    {
      "cell_type": "markdown",
      "metadata": {
        "id": "view-in-github",
        "colab_type": "text"
      },
      "source": [
        "<a href=\"https://colab.research.google.com/github/Rahul-phyton-code/basics-about-POST-and-GET/blob/main/20_feb.ipynb\" target=\"_parent\"><img src=\"https://colab.research.google.com/assets/colab-badge.svg\" alt=\"Open In Colab\"/></a>"
      ]
    },
    {
      "cell_type": "markdown",
      "source": [
        "1.) GET - This method is used to retrieve data from the server. e.g In an eCommerce application, there is a search button to search for an item. after entering a keyword if we noticed, the keyword you searched for gets displayed in the URL. This request is used when the data is not sensitive.\n",
        "\n",
        "POST: This method makes enables users to send data over to the server. e.g In any authentication-enabled application, the registration and login form is the best example for the post method. Whenever we enter Information and submit the data get transferred over to the POST request. And if we noticed, unlike get request there is no information will be ever displayed in the URL.\n",
        "\n"
      ],
      "metadata": {
        "id": "lN1kAeNH8PCF"
      }
    },
    {
      "cell_type": "markdown",
      "source": [
        "2.) When the Flask application handles a request, it creates a Request object based on the environment it received from the WSGI server. Because a worker (thread, process, or coroutine depending on the server) handles only one request at a time, the request data can be considered global to that worker during that request. "
      ],
      "metadata": {
        "id": "sriWt8gmC9li"
      }
    },
    {
      "cell_type": "markdown",
      "source": [
        "3.) Redirection in Flask can be done by returning a redirect response object, created by invoking the redirect() function. The same method is used for redirecting to other routes on the same application and external websites."
      ],
      "metadata": {
        "id": "fI-UQcyDDh8E"
      }
    },
    {
      "cell_type": "markdown",
      "source": [
        "4.) Templates are files that contain static data as well as placeholders for dynamic data. A template is rendered with specific data to produce a final document. Flask uses the Jinja template library to render templates. In your application, you will use templates to render HTML which will display in the user's browser.\n",
        "\n",
        "render_template is a Flask function from the flask.templating package. render_template is used to generate output from a template file based on the Jinja2 engine that is found in the application's templates folder."
      ],
      "metadata": {
        "id": "caDovVOTDkyh"
      }
    },
    {
      "cell_type": "markdown",
      "source": [
        "5.)"
      ],
      "metadata": {
        "id": "3OLaxHmGKf7w"
      }
    },
    {
      "cell_type": "code",
      "source": [
        "from flask import flask,request,render_template,jsonify\n",
        "app = Flask(__name__)\n",
        "@app.route('/')\n",
        "def home_page():\n",
        "  return render_template(\"index.html\")\n",
        "@app.route('/Math',methods='POST')\n",
        "def math_ops():\n",
        "  if (request.method==\"post\"):\n",
        "    ops = request.form[\"num1\"]\n",
        "    num 1= request.form['num1']\n",
        "    num 2= request.form['num2']\n",
        "    if ops = \"add\":\n",
        "      r = num1 + num2\n",
        "      result = \"The sum of\"+str(num1)+\"and\"+str(num2)+str(r)\n",
        "      return render_template(\"results.html\",result=result)\n",
        "\n",
        "      if __name__=\"__main__\":\n",
        "        app.run(host=\"0.0.0.0\")\n",
        "            \n"
      ],
      "metadata": {
        "id": "QFcUDn92TgvU"
      },
      "execution_count": null,
      "outputs": []
    }
  ]
}